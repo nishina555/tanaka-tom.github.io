{
 "cells": [
  {
   "cell_type": "markdown",
   "metadata": {},
   "source": [
    "# DeepLearning 第8回\n",
    "\n",
    "## 目標\n",
    "- 今までの内容を整理\n",
    "- 参考にしている本([ゼロから作るDeep Learning](http://amzn.to/2mW2bpu))の残りの内容を確認"
   ]
  },
  {
   "cell_type": "markdown",
   "metadata": {},
   "source": [
    "### やってきたこと\n",
    "- cloud9で環境構築 （第１回）\n",
    "- パーセプトロン実装　（第２回）\n",
    "- ニューラルネットワーク実装　（第３，４回）\n",
    "- ニューラルネットワークの学習　（第５回）\n",
    "- 誤差逆伝播を用いて学習の高速化　（第６，７回）"
   ]
  },
  {
   "cell_type": "markdown",
   "metadata": {},
   "source": [
    "### 残りの内容\n",
    "\n",
    "- パラメーターの自動更新\n",
    "- 畳み込みニューラルネットワーク\n",
    "- ディープラーニング"
   ]
  },
  {
   "cell_type": "markdown",
   "metadata": {},
   "source": [
    "## cloud9で環境構築\n",
    "- cloud9\n",
    "- miniconda\n",
    "    - numpy\n",
    "    - matplotlib\n",
    "- jupyter"
   ]
  },
  {
   "cell_type": "markdown",
   "metadata": {},
   "source": [
    "## パーセプトロン実装\n",
    "- パーセプトロン\n",
    "- 論理回路を実装やシンプルなニューロンモデル\n",
    "![パーセプトロン](images/perceptron/percep.svg)\n",
    "![neuron](images/perceptron/neuron.svg)\n"
   ]
  },
  {
   "cell_type": "markdown",
   "metadata": {},
   "source": [
    "## ニューラルネットワーク実装\n",
    "- 行列計算\n",
    "- 重み\n",
    "- バイアス\n",
    "- 活性化関数(Sigmoid, Step, ReLU)\n",
    "- 出力層(恒等関数、Softmax関数)\n",
    "- 学習済みのニューラルネットワークを用いてMNISTデータを識別\n",
    "![ニューラルネットワーク](images/neural-network-1/neuron2.svg)\n",
    "![ニューラルネットワーク](images/neural-network-2/sigma.svg)\n",
    "![ニューラルネットワーク](images/neural-network-2/output-neuron.svg)"
   ]
  },
  {
   "cell_type": "markdown",
   "metadata": {},
   "source": [
    "## ニューラルネットワークの学習\n",
    "- 訓練データ、テストデータ\n",
    "- 損失関数(2乗和誤差、交差エントロピー誤差)\n",
    "- ミニバッチ処理\n",
    "- 数値微分による勾配計算"
   ]
  },
  {
   "cell_type": "markdown",
   "metadata": {},
   "source": [
    "## 誤差逆伝播を用いて学習の高速化\n",
    "- 計算グラフ\n",
    "- 順伝播、逆伝播\n",
    "- レイヤー化(Affine, Softmax with Loss)\n",
    "![](images/backpropagation/computational-graph2-2.svg)\n",
    "![](images/backpropagation2/output-neuron-backpropagation.svg)"
   ]
  },
  {
   "cell_type": "markdown",
   "metadata": {},
   "source": [
    "## 残りの内容\n",
    "- パラメーターの自動更新\n",
    "- 畳み込みニューラルネットワーク\n",
    "- ディープラーニング"
   ]
  }
 ],
 "metadata": {
  "kernelspec": {
   "display_name": "Python 3",
   "language": "python",
   "name": "python3"
  },
  "language_info": {
   "codemirror_mode": {
    "name": "ipython",
    "version": 3
   },
   "file_extension": ".py",
   "mimetype": "text/x-python",
   "name": "python",
   "nbconvert_exporter": "python",
   "pygments_lexer": "ipython3",
   "version": "3.5.2"
  }
 },
 "nbformat": 4,
 "nbformat_minor": 2
}
