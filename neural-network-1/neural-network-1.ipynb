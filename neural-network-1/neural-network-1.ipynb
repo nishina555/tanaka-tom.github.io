{
 "cells": [
  {
   "cell_type": "markdown",
   "metadata": {},
   "source": [
    "# Deep Learnig 第3回\n",
    "\n",
    "# ニューラルネットワーク\n",
    "前回紹介した多層パーセプトロンに似た、複数の入力に対して幾つかの出力を返すアルゴリズム"
   ]
  },
  {
   "cell_type": "markdown",
   "metadata": {},
   "source": [
    "## 活性化関数"
   ]
  },
  {
   "cell_type": "markdown",
   "metadata": {},
   "source": [
    "前回紹介したパーセプトロンの式\n",
    "\n",
    "$$y=\\begin{cases} 0\\quad ({ x }_{ 1 }{ w }_{ 1 }+{ x }_{ 2 }{ w }_{ 2 }\\le \\theta ) \\\\ 1\\quad ({ x }_{ 1 }{ w }_{ 1 }+{ x }_{ 2 }{ w }_{ 2 }>\\theta ) \\end{cases}$$"
   ]
  },
  {
   "cell_type": "markdown",
   "metadata": {},
   "source": [
    "式変形\n",
    "$$y=h({ w }_{ 1 }{ x }_{ 1 }+{ w }_{ 2 }{ x }_{ 2 }+b)$$"
   ]
  },
  {
   "cell_type": "markdown",
   "metadata": {},
   "source": [
    "$$h(x)=\\begin{cases} 0\\quad (x\\le \\theta ) \\\\ 1\\quad (x>\\theta ) \\end{cases}$$"
   ]
  },
  {
   "cell_type": "markdown",
   "metadata": {},
   "source": [
    "$$a={ w }_{ 1 }{ x }_{ 1 }+{ w }_{ 2 }{ x }_{ 2 }+b$$"
   ]
  },
  {
   "cell_type": "markdown",
   "metadata": {},
   "source": [
    "$$y=h(a)$$"
   ]
  },
  {
   "cell_type": "markdown",
   "metadata": {},
   "source": [
    "![ニューラルネットワーク](images/neural-network-1/neuron2.svg)"
   ]
  },
  {
   "cell_type": "code",
   "execution_count": 1,
   "metadata": {
    "collapsed": true
   },
   "outputs": [],
   "source": [
    "import numpy as np\n",
    "import matplotlib.pylab as plt\n",
    "\n",
    "# https://github.com/oreilly-japan/deep-learning-from-scratch/blob/master/ch03/sig_step_compare.py"
   ]
  },
  {
   "cell_type": "markdown",
   "metadata": {},
   "source": [
    "### ステップ関数\n",
    "\n",
    "$$h(x)=\\begin{cases} 0\\quad (x\\le \\theta ) \\\\ 1\\quad (x>\\theta ) \\end{cases}$$"
   ]
  },
  {
   "cell_type": "code",
   "execution_count": 2,
   "metadata": {
    "collapsed": true
   },
   "outputs": [],
   "source": [
    "def step_function(x):\n",
    "    return np.array(x > 0, dtype=np.int)\n",
    "\n",
    "# https://github.com/oreilly-japan/deep-learning-from-scratch/blob/master/ch03/sig_step_compare.py"
   ]
  },
  {
   "cell_type": "markdown",
   "metadata": {},
   "source": [
    "### シグモイド関数\n",
    "\n",
    "$$h(x)=\\frac { 1 }{ 1+exp(-x) } $$"
   ]
  },
  {
   "cell_type": "code",
   "execution_count": 13,
   "metadata": {
    "collapsed": true
   },
   "outputs": [],
   "source": [
    "def sigmoid(x):\n",
    "    return 1 / (1 + np.exp(-x))\n",
    "\n",
    "# https://github.com/oreilly-japan/deep-learning-from-scratch/blob/master/ch03/sigmoid.py"
   ]
  },
  {
   "cell_type": "markdown",
   "metadata": {},
   "source": [
    "### ReLU関数\n",
    "\n",
    "$$h(x)=\\begin{cases} 0\\quad (x\\le \\theta ) \\\\ x\\quad (x>\\theta ) \\end{cases}$$"
   ]
  },
  {
   "cell_type": "code",
   "execution_count": 7,
   "metadata": {
    "collapsed": true
   },
   "outputs": [],
   "source": [
    "def relu(x):\n",
    "    return np.maximum(0, x)\n",
    "\n",
    "# https://github.com/oreilly-japan/deep-learning-from-scratch/blob/master/ch03/relu.py"
   ]
  },
  {
   "cell_type": "code",
   "execution_count": 12,
   "metadata": {
    "collapsed": false
   },
   "outputs": [
    {
     "data": {
      "image/png": "[encoded data removed]",
      "text/plain": [
       "<matplotlib.figure.Figure at 0x7f9c15792cf8>"
      ]
     },
     "metadata": {},
     "output_type": "display_data"
    }
   ],
   "source": [
    "x = np.arange(-5.0, 5.0, 0.1)\n",
    "y_step = step_function(x)\n",
    "y_sigmoid = sigmoid(x)\n",
    "y_relu = relu(x)\n",
    "plt.plot(x, y_step, label = \"Step\")\n",
    "plt.plot(x, y_sigmoid, label = \"Sigmoid\")\n",
    "plt.plot(x, y_relu, label = \"ReLU\")\n",
    "plt.legend()\n",
    "\n",
    "plt.ylim(-0.1, 1.5)\n",
    "plt.show()"
   ]
  },
  {
   "cell_type": "markdown",
   "metadata": {},
   "source": [
    "## 行列計算"
   ]
  },
  {
   "cell_type": "markdown",
   "metadata": {},
   "source": [
    "### 通常の行列計算\n",
    "\n",
    "$$\\begin{pmatrix} 1 & 2 \\end{pmatrix}\\begin{pmatrix} 3 & 4 \\\\ 5 & 6 \\end{pmatrix}=\\begin{pmatrix} 13 & 16 \\end{pmatrix}$$"
   ]
  },
  {
   "cell_type": "code",
   "execution_count": 15,
   "metadata": {
    "collapsed": false
   },
   "outputs": [
    {
     "name": "stdout",
     "output_type": "stream",
     "text": [
      "[13 16]\n"
     ]
    }
   ],
   "source": [
    "x = np.array([1, 2])\n",
    "y = np.array([[3, 4], [5, 6]])\n",
    "ans = np.dot(x, y)\n",
    "print(ans)"
   ]
  },
  {
   "cell_type": "markdown",
   "metadata": {},
   "source": [
    "### ニューラルネットワーク"
   ]
  },
  {
   "cell_type": "markdown",
   "metadata": {},
   "source": [
    "![ニューラルネットワーク](images/neural-network-1/neural-network.svg)"
   ]
  },
  {
   "cell_type": "markdown",
   "metadata": {},
   "source": [
    "$$XW=Y$$\n",
    "\n",
    "$$X=\\begin{pmatrix} { x }_{ 1 } & { x }_{ 2 } \\end{pmatrix}$$\n",
    "\n",
    "$$W=\\begin{pmatrix} 1 & 3 & 5 \\\\ 2 & 4 & 6 \\end{pmatrix}$$\n",
    "\n",
    "$$Y=\\begin{pmatrix} { y }_{ 1 } & { y }_{ 2 } & { y }_{ 3 } \\end{pmatrix}$$"
   ]
  },
  {
   "cell_type": "markdown",
   "metadata": {},
   "source": [
    "### 更に複雑なニューラルネットワーク"
   ]
  },
  {
   "cell_type": "markdown",
   "metadata": {},
   "source": [
    "![ニューラルネットワーク](images/neural-network-1/neural-network2.svg)"
   ]
  },
  {
   "cell_type": "markdown",
   "metadata": {},
   "source": [
    "$${ a }_{ 1 }={ w }_{ 11 }{ x }_{ 1 }+{ w }_{ 12 }{ x }_{ 2 }+{ b }_{ 1 }$$\n",
    "\n",
    "$$A=XW+B$$\n",
    "\n",
    "$$A=\\begin{pmatrix} { a }_{ 1 } & { a }_{ 2 } & { a }_{ 3 } \\end{pmatrix}$$\n",
    "\n",
    "$$X=\\begin{pmatrix} { x }_{ 1 } & { x }_{ 2 } \\end{pmatrix}$$\n",
    "\n",
    "$$B=\\begin{pmatrix} b_{ 1 } & b_{ 2 } & b_{ 3 } \\end{pmatrix}$$\n",
    "\n",
    "$$W=\\begin{pmatrix} w_{ 11 } & w_{ 21 } & w_{ 31 } \\\\ w_{ 12 } & w_{ 22 } & w_{ 32 } \\end{pmatrix}$$"
   ]
  },
  {
   "cell_type": "code",
   "execution_count": null,
   "metadata": {
    "collapsed": true
   },
   "outputs": [],
   "source": []
  }
 ],
 "metadata": {
  "kernelspec": {
   "display_name": "Python 3",
   "language": "python",
   "name": "python3"
  },
  "language_info": {
   "codemirror_mode": {
    "name": "ipython",
    "version": 3
   },
   "file_extension": ".py",
   "mimetype": "text/x-python",
   "name": "python",
   "nbconvert_exporter": "python",
   "pygments_lexer": "ipython3",
   "version": "3.5.2"
  }
 },
 "nbformat": 4,
 "nbformat_minor": 2
}
