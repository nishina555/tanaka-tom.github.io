{
 "cells": [
  {
   "cell_type": "markdown",
   "metadata": {},
   "source": [
    "# DeepLearning 第7回\n",
    "\n",
    "## 今回の目標\n",
    "前回学んだ誤差逆伝播を用いて高速化した学習を実装する"
   ]
  },
  {
   "cell_type": "markdown",
   "metadata": {},
   "source": [
    "## Affineレイヤ\n",
    "\n",
    "入力値と重みをかけて、バイアスを足すレイヤ  \n",
    "NNで扱うために行列計算を行う\n",
    "\n",
    "行列の形状を合わせることが大切。"
   ]
  },
  {
   "cell_type": "markdown",
   "metadata": {},
   "source": [
    "![](https://tanaka-tom.github.io/backpropagation2/affine-graph.svg)"
   ]
  },
  {
   "cell_type": "markdown",
   "metadata": {},
   "source": [
    "### ミニバッチ版Affineレイヤ\n",
    "上記のAffineレイヤをさらにミニバッチ処理できるように修正する"
   ]
  },
  {
   "cell_type": "markdown",
   "metadata": {},
   "source": [
    "![](https://tanaka-tom.github.io/backpropagation2/affine-graph2.svg)"
   ]
  },
  {
   "cell_type": "markdown",
   "metadata": {},
   "source": [
    "### ミニバッチAffineレイヤの実装"
   ]
  },
  {
   "cell_type": "code",
   "execution_count": 21,
   "metadata": {
    "collapsed": true
   },
   "outputs": [],
   "source": [
    "import numpy as np\n",
    "\n",
    "class Affine:\n",
    "    def __init__(self, W, b):\n",
    "        self.W = W\n",
    "        self.b = b\n",
    "        self.x = None\n",
    "        self.dW = None\n",
    "        self.db = None\n",
    "\n",
    "    def forward(self, x):\n",
    "        self.x = x\n",
    "        out = np.dot(x, self.W) + self.b\n",
    "\n",
    "        return out\n",
    "\n",
    "    def backward(self, dout):\n",
    "        dx = np.dot(dout, self.W.T)\n",
    "        self.dW = np.dot(self.x.T, dout)\n",
    "        self.db = np.sum(dout, axis=0)\n",
    "\n",
    "        return dx"
   ]
  },
  {
   "cell_type": "markdown",
   "metadata": {},
   "source": [
    "## 今回実装するNNの全貌\n",
    "\n",
    "２層NNを実装する。  \n",
    "以下の図の用にAffineレイヤとReLUレイヤ（活性化関数）を組み合わせ、  \n",
    "最後の出力でSoftmaxによる正規化を行う"
   ]
  },
  {
   "cell_type": "markdown",
   "metadata": {},
   "source": [
    "![](https://tanaka-tom.github.io/backpropagation2/output-neuron-backpropagation.svg)"
   ]
  },
  {
   "cell_type": "markdown",
   "metadata": {
    "collapsed": true
   },
   "source": [
    "## Softmax with Lossレイヤ\n",
    "\n",
    "今回は学習を実装するため、  \n",
    "最後の出力ではSoftmaxで得られた確率から誤差を導き出してやる必要がある。  \n",
    "その為Softmax with Lossレイヤとして実装し、損失関数にはCross Entropy Errorを用いる。"
   ]
  },
  {
   "cell_type": "markdown",
   "metadata": {},
   "source": [
    "![](https://tanaka-tom.github.io/backpropagation2/softmax-with-loss-graph.svg)"
   ]
  },
  {
   "cell_type": "markdown",
   "metadata": {},
   "source": [
    "### Softmax-with-Lossの実装"
   ]
  },
  {
   "cell_type": "code",
   "execution_count": 22,
   "metadata": {
    "collapsed": false
   },
   "outputs": [],
   "source": [
    "class SoftmaxWithLoss:\n",
    "\tdef __init__(self):\n",
    "\t\tself.loss = None\n",
    "\t\tself.y = None\n",
    "\t\tself.x = None\n",
    "\n",
    "\tdef forward(self, x, t):\n",
    "\t\tself.t = t\n",
    "\t\tself.y = softmax(x)\n",
    "\t\tself.loss = cross_entropy_error(self.y, self.t)\n",
    "\n",
    "\t\treturn self.loss\n",
    "\n",
    "\tdef backward(self, dout=1):\n",
    "\t\tbatch_size = self.t.shape[0]\n",
    "\t\tdx = (self.y - self.t) / batch_size\n",
    "\n",
    "\t\treturn dx"
   ]
  },
  {
   "cell_type": "markdown",
   "metadata": {},
   "source": [
    "## 2層ニューラルネットワークの実装"
   ]
  },
  {
   "cell_type": "code",
   "execution_count": 23,
   "metadata": {
    "collapsed": false
   },
   "outputs": [],
   "source": [
    "import sys, os\n",
    "sys.path.append(os.pardir)\n",
    "from collections import OrderedDict\n",
    "from dataset.mnist import load_mnist"
   ]
  },
  {
   "cell_type": "code",
   "execution_count": 24,
   "metadata": {
    "collapsed": true
   },
   "outputs": [],
   "source": [
    "class Relu:\n",
    "    def __init__(self):\n",
    "        self.mask = None\n",
    "\n",
    "    def forward(self, x):\n",
    "        self.mask = (x <= 0)\n",
    "        out = x.copy()\n",
    "        out[self.mask] = 0\n",
    "\n",
    "        return out\n",
    "\n",
    "    def backward(self, dout):\n",
    "        dout[self.mask] = 0\n",
    "        dx = dout\n",
    "\n",
    "        return dx"
   ]
  },
  {
   "cell_type": "code",
   "execution_count": 25,
   "metadata": {
    "collapsed": true
   },
   "outputs": [],
   "source": [
    "def softmax(x):\n",
    "    if x.ndim == 2:\n",
    "        x = x.T\n",
    "        x = x - np.max(x, axis=0)\n",
    "        y = np.exp(x) / np.sum(np.exp(x), axis=0)\n",
    "        return y.T \n",
    "\n",
    "    x = x - np.max(x) # オーバーフロー対策\n",
    "    return np.exp(x) / np.sum(np.exp(x))"
   ]
  },
  {
   "cell_type": "code",
   "execution_count": 26,
   "metadata": {
    "collapsed": true
   },
   "outputs": [],
   "source": [
    "def cross_entropy_error(y, t):\n",
    "    if y.ndim == 1:\n",
    "        t = t.reshape(1, t.size)\n",
    "        y = y.reshape(1, y.size)\n",
    "        \n",
    "    # 教師データがone-hot-vectorの場合、正解ラベルのインデックスに変換\n",
    "    if t.size == y.size:\n",
    "        t = t.argmax(axis=1)\n",
    "             \n",
    "    batch_size = y.shape[0]\n",
    "    return -np.sum(np.log(y[np.arange(batch_size), t])) / batch_size"
   ]
  },
  {
   "cell_type": "code",
   "execution_count": 27,
   "metadata": {
    "collapsed": true
   },
   "outputs": [],
   "source": [
    "def numerical_gradient(f, x):\n",
    "    h = 1e-4 # 0.0001\n",
    "    grad = np.zeros_like(x)\n",
    "    \n",
    "    it = np.nditer(x, flags=['multi_index'], op_flags=['readwrite'])\n",
    "    while not it.finished:\n",
    "        idx = it.multi_index\n",
    "        tmp_val = x[idx]\n",
    "        x[idx] = float(tmp_val) + h\n",
    "        fxh1 = f(x) # f(x+h)\n",
    "        \n",
    "        x[idx] = tmp_val - h \n",
    "        fxh2 = f(x) # f(x-h)\n",
    "        grad[idx] = (fxh1 - fxh2) / (2*h)\n",
    "        \n",
    "        x[idx] = tmp_val # 値を元に戻す\n",
    "        it.iternext()   \n",
    "        \n",
    "    return grad"
   ]
  },
  {
   "cell_type": "code",
   "execution_count": 28,
   "metadata": {
    "collapsed": true
   },
   "outputs": [],
   "source": [
    "class TwoLayerNet:\n",
    "\n",
    "    def __init__(self, input_size, hidden_size, output_size, weight_init_std = 0.01):\n",
    "        # 重みの初期化\n",
    "        self.params = {}\n",
    "        self.params['W1'] = weight_init_std * np.random.randn(input_size, hidden_size)\n",
    "        self.params['b1'] = np.zeros(hidden_size)\n",
    "        self.params['W2'] = weight_init_std * np.random.randn(hidden_size, output_size) \n",
    "        self.params['b2'] = np.zeros(output_size)\n",
    "\n",
    "        # レイヤの生成\n",
    "        self.layers = OrderedDict()\n",
    "        self.layers['Affine1'] = Affine(self.params['W1'], self.params['b1'])\n",
    "        self.layers['Relu1'] = Relu()\n",
    "        self.layers['Affine2'] = Affine(self.params['W2'], self.params['b2'])\n",
    "\n",
    "        self.lastLayer = SoftmaxWithLoss()\n",
    "        \n",
    "    def predict(self, x):\n",
    "        for layer in self.layers.values():\n",
    "            x = layer.forward(x)\n",
    "        \n",
    "        return x\n",
    "        \n",
    "    # x:入力データ, t:教師データ\n",
    "    def loss(self, x, t):\n",
    "        y = self.predict(x)\n",
    "        return self.lastLayer.forward(y, t)\n",
    "    \n",
    "    def accuracy(self, x, t):\n",
    "        y = self.predict(x)\n",
    "        y = np.argmax(y, axis=1)\n",
    "        if t.ndim != 1 : t = np.argmax(t, axis=1)\n",
    "        \n",
    "        accuracy = np.sum(y == t) / float(x.shape[0])\n",
    "        return accuracy\n",
    "        \n",
    "    # x:入力データ, t:教師データ\n",
    "    def numerical_gradient(self, x, t):\n",
    "        loss_W = lambda W: self.loss(x, t)\n",
    "        \n",
    "        grads = {}\n",
    "        grads['W1'] = numerical_gradient(loss_W, self.params['W1'])\n",
    "        grads['b1'] = numerical_gradient(loss_W, self.params['b1'])\n",
    "        grads['W2'] = numerical_gradient(loss_W, self.params['W2'])\n",
    "        grads['b2'] = numerical_gradient(loss_W, self.params['b2'])\n",
    "        \n",
    "        return grads\n",
    "        \n",
    "    def gradient(self, x, t):\n",
    "        # forward\n",
    "        self.loss(x, t)\n",
    "\n",
    "        # backward\n",
    "        dout = 1\n",
    "        dout = self.lastLayer.backward(dout)\n",
    "        \n",
    "        layers = list(self.layers.values())\n",
    "        layers.reverse()\n",
    "        for layer in layers:\n",
    "            dout = layer.backward(dout)\n",
    "\n",
    "        # 設定\n",
    "        grads = {}\n",
    "        grads['W1'], grads['b1'] = self.layers['Affine1'].dW, self.layers['Affine1'].db\n",
    "        grads['W2'], grads['b2'] = self.layers['Affine2'].dW, self.layers['Affine2'].db\n",
    "\n",
    "        return grads"
   ]
  },
  {
   "cell_type": "markdown",
   "metadata": {},
   "source": [
    "## 勾配確認\n",
    "\n",
    "勾配の求める方法２通り\n",
    "\n",
    "- 数値微分（実装簡単）\n",
    "- 解析的に数式を解いて求める（より複雑）\n",
    "\n",
    "後者だと実装にミスがあるかもしれないので両者の計算結果を比較することで正しさを担保する"
   ]
  },
  {
   "cell_type": "code",
   "execution_count": 29,
   "metadata": {
    "collapsed": true
   },
   "outputs": [],
   "source": [
    "def gradient_check():\n",
    "    # データの読み込み\n",
    "    (x_train, t_train), (x_test, t_test) = load_mnist(normalize=True, one_hot_label=True)\n",
    "\n",
    "    network = TwoLayerNet(input_size=784, hidden_size=50, output_size=10)\n",
    "\n",
    "    x_batch = x_train[:3]\n",
    "    t_batch = t_train[:3]\n",
    "\n",
    "    grad_numerical = network.numerical_gradient(x_batch, t_batch)\n",
    "    grad_backprop = network.gradient(x_batch, t_batch)\n",
    "\n",
    "    for key in grad_numerical.keys():\n",
    "        diff = np.average( np.abs(grad_backprop[key] - grad_numerical[key]) )\n",
    "        print(key + \":\" + str(diff))"
   ]
  },
  {
   "cell_type": "code",
   "execution_count": 30,
   "metadata": {
    "collapsed": false
   },
   "outputs": [
    {
     "name": "stdout",
     "output_type": "stream",
     "text": [
      "W1:2.58522139062e-13\n",
      "b1:1.17827803178e-12\n",
      "b2:1.1990408666e-10\n",
      "W2:8.68944111977e-13\n"
     ]
    }
   ],
   "source": [
    "gradient_check()"
   ]
  },
  {
   "cell_type": "markdown",
   "metadata": {},
   "source": [
    "## 逆誤差伝播を用いた学習の実装"
   ]
  },
  {
   "cell_type": "code",
   "execution_count": 31,
   "metadata": {
    "collapsed": true
   },
   "outputs": [],
   "source": [
    "def backprop_learn():\n",
    "\t(x_train, t_train), (x_test, t_test) = load_mnist(normalize=True, one_hot_label=True)\n",
    "\n",
    "\tnetwork = TwoLayerNet(input_size=784, hidden_size=50, output_size=10)\n",
    "\n",
    "\titers_num = 10000\n",
    "\ttrain_size = x_train.shape[0]\n",
    "\tbatch_size = 100\n",
    "\tlearning_rate = 0.1\n",
    "\ttrain_loss_list = []\n",
    "\ttrain_acc_list = []\n",
    "\ttest_acc_list = []\n",
    "\tprint(train_size)\n",
    "\titer_per_epoch = max(train_size / batch_size, 1)\n",
    "\n",
    "\tfor i in range(iters_num):\n",
    "\t\tbatch_mask = np.random.choice(train_size, batch_size)\n",
    "\t\tx_batch = x_train[batch_mask]\n",
    "\t\tt_batch = t_train[batch_mask]\n",
    "\n",
    "\t\tgrad = network.gradient(x_batch, t_batch)\n",
    "\n",
    "\t\tfor key in ('W1', 'b1', 'W2', 'b2'):\n",
    "\t\t\tnetwork.params[key] -= learning_rate * grad[key]\n",
    "\n",
    "\t\tloss = network.loss(x_batch, t_batch)\n",
    "\t\ttrain_loss_list.append(loss)\n",
    "\n",
    "\t\tif i % iter_per_epoch == 0:\n",
    "\t\t\ttrain_acc = network.accuracy(x_train, t_train)\n",
    "\t\t\ttest_acc = network.accuracy(x_test, t_test)\n",
    "\t\t\ttrain_acc_list.append(train_acc)\n",
    "\t\t\ttest_acc_list.append(test_acc)\n",
    "\t\t\tprint(train_acc, test_acc)"
   ]
  },
  {
   "cell_type": "code",
   "execution_count": 32,
   "metadata": {
    "collapsed": false
   },
   "outputs": [
    {
     "name": "stdout",
     "output_type": "stream",
     "text": [
      "60000\n",
      "0.128333333333 0.1262\n",
      "0.901366666667 0.9031\n",
      "0.925283333333 0.9273\n",
      "0.9358 0.9364\n",
      "0.946233333333 0.9432\n",
      "0.952616666667 0.9487\n",
      "0.958883333333 0.9528\n",
      "0.962316666667 0.958\n",
      "0.966566666667 0.9609\n",
      "0.968516666667 0.9622\n",
      "0.9703 0.9621\n",
      "0.973766666667 0.966\n",
      "0.9733 0.9649\n",
      "0.976033333333 0.9664\n",
      "0.977683333333 0.9674\n",
      "0.97795 0.9664\n",
      "0.9802 0.9678\n"
     ]
    }
   ],
   "source": [
    "backprop_learn()"
   ]
  },
  {
   "cell_type": "code",
   "execution_count": null,
   "metadata": {
    "collapsed": true
   },
   "outputs": [],
   "source": []
  }
 ],
 "metadata": {
  "anaconda-cloud": {},
  "kernelspec": {
   "display_name": "Python [default]",
   "language": "python",
   "name": "python3"
  },
  "language_info": {
   "codemirror_mode": {
    "name": "ipython",
    "version": 3
   },
   "file_extension": ".py",
   "mimetype": "text/x-python",
   "name": "python",
   "nbconvert_exporter": "python",
   "pygments_lexer": "ipython3",
   "version": "3.5.2"
  }
 },
 "nbformat": 4,
 "nbformat_minor": 2
}
