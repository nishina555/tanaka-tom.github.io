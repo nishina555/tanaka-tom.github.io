{
 "cells": [
  {
   "cell_type": "markdown",
   "metadata": {},
   "source": [
    "# Deep Learning  第6回\n",
    "\n",
    "## 今回の目標\n",
    "前回実装したニューラルネットワークの学習機能を誤差逆伝播法を用いて高速化する"
   ]
  },
  {
   "cell_type": "markdown",
   "metadata": {},
   "source": [
    "## 誤差逆伝播法\n",
    "前回実装したニューラルネットワークの学習では勾配計算に特に時間がかかっていた。  \n",
    "今回は誤差逆伝播法を用いることで勾配計算を効率よく行う。\n",
    "\n",
    "1. サンプルデータを取る\n",
    "2.  損失を算出する\n",
    "3.  **勾配を算出する** <- ここの高速化\n",
    "4.  重みを修正\n",
    "5.  繰り返す"
   ]
  },
  {
   "cell_type": "markdown",
   "metadata": {},
   "source": [
    "### 誤差逆伝播を求める手順\n",
    "1. 順伝播を求める\n",
    "2. 逆伝播を求める"
   ]
  },
  {
   "cell_type": "markdown",
   "metadata": {},
   "source": [
    "### 順伝播\n",
    "局所的な計算を順番に行う"
   ]
  },
  {
   "cell_type": "markdown",
   "metadata": {},
   "source": [
    "### 計算グラフ\n",
    "計算過程をグラフで表したもの  \n",
    "これを使うと順伝搬、逆伝搬が視覚的に理解しやすくなる"
   ]
  },
  {
   "cell_type": "markdown",
   "metadata": {},
   "source": [
    "例）\n",
    "１個100円のグレープフルーツを２個購入したときの合計金額を求めよ。ただし、消費税10%が適用されるものとする。"
   ]
  },
  {
   "cell_type": "markdown",
   "metadata": {},
   "source": [
    "![](images/backpropagation/computational-graph.svg)"
   ]
  },
  {
   "cell_type": "markdown",
   "metadata": {},
   "source": [
    "![](images/backpropagation/computational-graph2-2.svg)"
   ]
  },
  {
   "cell_type": "markdown",
   "metadata": {
    "collapsed": true
   },
   "source": [
    "![](images/backpropagation/backpropagation.svg)"
   ]
  },
  {
   "cell_type": "markdown",
   "metadata": {},
   "source": [
    "### 乗算レイヤ"
   ]
  },
  {
   "cell_type": "markdown",
   "metadata": {},
   "source": [
    "$t=x\\times y\\\\ \\frac { \\partial t }{ \\partial x } =y\\\\ \\frac { \\partial t }{ \\partial y } =x$"
   ]
  },
  {
   "cell_type": "code",
   "execution_count": 6,
   "metadata": {
    "collapsed": true
   },
   "outputs": [],
   "source": [
    "class MulLayer:\n",
    "    def __init__(self):\n",
    "        self.x = None\n",
    "        self.y = None\n",
    "        \n",
    "    def forward(self, x, y):\n",
    "        self.x = x\n",
    "        self.y = y\n",
    "        out = x * y\n",
    "        \n",
    "        return out\n",
    "    \n",
    "    def backward(self, dout):\n",
    "        dx = dout * self.y\n",
    "        dy = dout * self.x\n",
    "        \n",
    "        return dx, dy"
   ]
  },
  {
   "cell_type": "code",
   "execution_count": 9,
   "metadata": {
    "collapsed": false
   },
   "outputs": [
    {
     "name": "stdout",
     "output_type": "stream",
     "text": [
      "220.00000000000003\n"
     ]
    }
   ],
   "source": [
    "grapefruit = 100\n",
    "grapefruit_num = 2\n",
    "tax = 1.1\n",
    "\n",
    "mul_grapefruit_layer = MulLayer()\n",
    "mul_tax_layer = MulLayer()\n",
    "\n",
    "# 順伝播\n",
    "grapefruit_price = mul_grapefruit_layer.forward(grapefruit, grapefruit_num)\n",
    "price = mul_tax_layer.forward(grapefruit_price, tax)\n",
    "\n",
    "print(price)"
   ]
  },
  {
   "cell_type": "code",
   "execution_count": 21,
   "metadata": {
    "collapsed": false
   },
   "outputs": [
    {
     "name": "stdout",
     "output_type": "stream",
     "text": [
      "2.2 110.00000000000001 200\n"
     ]
    }
   ],
   "source": [
    "dprice = 1\n",
    "\n",
    "# 逆伝播\n",
    "dgrapefruit_price, dtax = mul_tax_layer.backward(dprice)\n",
    "dgrapefruit, dgrapefruit_num = mul_grapefruit_layer.backward(dgrapefruit_price)\n",
    "\n",
    "print(dgrapefruit, dgrapefruit_num, dtax)"
   ]
  },
  {
   "cell_type": "markdown",
   "metadata": {},
   "source": [
    "### 加算レイヤ"
   ]
  },
  {
   "cell_type": "markdown",
   "metadata": {},
   "source": [
    "$$t=x+y\\\\ \\frac { \\partial t }{ \\partial x } =1\\\\ \\frac { \\partial t }{ \\partial y } =1$$"
   ]
  },
  {
   "cell_type": "code",
   "execution_count": 14,
   "metadata": {
    "collapsed": true
   },
   "outputs": [],
   "source": [
    "class AddLayer:\n",
    "    def __init__(self):\n",
    "        pass\n",
    "\n",
    "    def forward(self, x, y):\n",
    "        out = x + y\n",
    "        return out\n",
    "\n",
    "    def backward(self, dout):\n",
    "        dx = dout * 1\n",
    "        dy = dout * 1\n",
    "        return dx, dy"
   ]
  },
  {
   "cell_type": "markdown",
   "metadata": {},
   "source": [
    "### シグモイドレイヤ"
   ]
  },
  {
   "cell_type": "markdown",
   "metadata": {},
   "source": [
    "#### シグモイド関数\n",
    "\n",
    "$$h(x)=\\frac { 1 }{ 1+exp(-x) } $$"
   ]
  },
  {
   "cell_type": "markdown",
   "metadata": {},
   "source": [
    "![](images/backpropagation/computational-graph-sigmoid.svg)"
   ]
  },
  {
   "cell_type": "markdown",
   "metadata": {},
   "source": [
    "![](images/backpropagation/computational-graph-sigmoid-function.svg)"
   ]
  },
  {
   "cell_type": "markdown",
   "metadata": {
    "collapsed": true
   },
   "source": [
    "$$\\frac { \\partial L }{ \\partial y } { y }^{ 2 }exp(-x)\\\\ =\\frac { \\partial L }{ \\partial y } \\frac { 1 }{ { (1+exp(-x)) }^{ 2 } } exp(-x)\\\\ =\\frac { \\partial L }{ \\partial y } \\frac { 1 }{ { 1+exp(-x) } } \\frac { exp(-x) }{ 1+exp(-x) } \\\\ =\\frac { \\partial L }{ \\partial y } y(1-y)$$"
   ]
  },
  {
   "cell_type": "code",
   "execution_count": 15,
   "metadata": {
    "collapsed": true
   },
   "outputs": [],
   "source": [
    "class Sigmoid:\n",
    "    def __init__(self):\n",
    "        self.out = None\n",
    "\n",
    "    def forward(self, x):\n",
    "        out = 1 / (1 + np.exp(-x))\n",
    "        self.out = out\n",
    "\n",
    "        return out\n",
    "\n",
    "    def backward(self, dout):\n",
    "      dx = dout * (1.0 + self.out) * self.out\n",
    "\n",
    "      return dx"
   ]
  },
  {
   "cell_type": "markdown",
   "metadata": {
    "collapsed": true
   },
   "source": [
    "### ReLUレイヤ"
   ]
  },
  {
   "cell_type": "markdown",
   "metadata": {},
   "source": [
    "#### ReLU関数\n",
    "\n",
    "$$h(x)=\\begin{cases} 0\\quad (x\\le \\theta ) \\\\ x\\quad (x>\\theta ) \\end{cases}$$"
   ]
  },
  {
   "cell_type": "markdown",
   "metadata": {
    "collapsed": true
   },
   "source": [
    "![](images/backpropagation/computational-graph-relu.svg)"
   ]
  },
  {
   "cell_type": "code",
   "execution_count": 16,
   "metadata": {
    "collapsed": true
   },
   "outputs": [],
   "source": [
    "class Relu:\n",
    "    def __init__(self):\n",
    "        self.mask = None\n",
    "\n",
    "    def forward(self, x):\n",
    "        self.mask = (x <= 0)\n",
    "        out = x.copy()\n",
    "        out[self.mask] = 0\n",
    "\n",
    "        return out\n",
    "\n",
    "    def backward(self, dout):\n",
    "        dout[self.mask] = 0\n",
    "        dx = dout\n",
    "\n",
    "        return dx"
   ]
  }
 ],
 "metadata": {
  "kernelspec": {
   "display_name": "Python 3",
   "language": "python",
   "name": "python3"
  },
  "language_info": {
   "codemirror_mode": {
    "name": "ipython",
    "version": 3
   },
   "file_extension": ".py",
   "mimetype": "text/x-python",
   "name": "python",
   "nbconvert_exporter": "python",
   "pygments_lexer": "ipython3",
   "version": "3.5.2"
  }
 },
 "nbformat": 4,
 "nbformat_minor": 2
}
